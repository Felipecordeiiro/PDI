{
 "cells": [
  {
   "cell_type": "code",
   "execution_count": null,
   "id": "9289c0c2",
   "metadata": {},
   "outputs": [
    {
     "name": "stdout",
     "output_type": "stream",
     "text": [
      "Shape img: (598, 566)\n"
     ]
    }
   ],
   "source": [
    "import cv2 as cv\n",
    "\n",
    "img_path = \"/home/felipe/Desktop/graduation/2025.2/PDI/atvd1/Felipe Cordeiro de Sousa UFC - Fig0224(galaxy_pair_original) (1).tif\"\n",
    "\n",
    "img = cv.imread(img_path, cv.IMREAD_GRAYSCALE)\n",
    "\n",
    "print(f\"Shape (w,h) img: {img.shape}\")"
   ]
  },
  {
   "cell_type": "code",
   "execution_count": null,
   "id": "645cfff7",
   "metadata": {},
   "outputs": [],
   "source": []
  }
 ],
 "metadata": {
  "kernelspec": {
   "display_name": "PDI",
   "language": "python",
   "name": "python3"
  },
  "language_info": {
   "codemirror_mode": {
    "name": "ipython",
    "version": 3
   },
   "file_extension": ".py",
   "mimetype": "text/x-python",
   "name": "python",
   "nbconvert_exporter": "python",
   "pygments_lexer": "ipython3",
   "version": "3.12.3"
  }
 },
 "nbformat": 4,
 "nbformat_minor": 5
}
